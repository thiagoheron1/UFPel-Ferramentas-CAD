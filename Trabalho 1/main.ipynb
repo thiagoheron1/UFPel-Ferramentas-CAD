{
 "cells": [
  {
   "cell_type": "markdown",
   "metadata": {},
   "source": [
    "#### [Trabalho 1 - Ferramentas de CAD]"
   ]
  },
  {
   "cell_type": "code",
   "execution_count": 1,
   "metadata": {},
   "outputs": [],
   "source": [
    "import numpy as np\n",
    "import pandas as pd\n",
    "import itertools\n",
    "#  !A*!B*!C*!D + !A*!B*!C*D + !A*B*!C*D + !A*B*C*!D + !A*B*C*D\n",
    "# SOP = input()\n",
    "\n",
    "#SOP =  \"!A*!B*!C*!D + !A*!B*!C*D + !A*B*!C*D + !A*B*C*!D + !A*B*C*D + !A*!B*!C*D\"\n",
    "SOP = \"!A*!B*C*!D + !A*B*!C*!D + !A*B*C*!D + A*!B*!C*!D + A*!B*!C*D + A*!B*C*!D + A*B*!C*!D + A*B*!C*D + A*B*C*D\""
   ]
  },
  {
   "cell_type": "code",
   "execution_count": 2,
   "metadata": {
    "code_folding": [
     2,
     5,
     20,
     32,
     57,
     100,
     114,
     136,
     156,
     176,
     185,
     204,
     278,
     327
    ]
   },
   "outputs": [],
   "source": [
    "class QuineMcCluskey():\n",
    "    \n",
    "    def __init__(self, SOP):\n",
    "        self.SOP = SOP\n",
    "    \n",
    "    def getBinaryOfSOP(self):\n",
    "        listExpressionsOfProducts = self.SOP.split(\"+\")\n",
    "        listExpressionBinary = []\n",
    "        \n",
    "        for expressionProduct in listExpressionsOfProducts:\n",
    "            expressionBinary = \"\"\n",
    "            for minterm in expressionProduct.split(\"*\"):\n",
    "                if \"!\" in minterm:\n",
    "                    expressionBinary += \"0\"\n",
    "                else:\n",
    "                    expressionBinary += \"1\"\n",
    "            listExpressionBinary.append(expressionBinary)\n",
    "        \n",
    "        return listExpressionBinary\n",
    "    \n",
    "    def sortByNumbersOne(self, listExpressionBinary):\n",
    "        sortListExpressionBinary = []\n",
    "        numberOfOneInExpression = 1\n",
    "\n",
    "        for _ in range(0, 5):\n",
    "            for expression in listExpressionBinary:\n",
    "                if expression.count(\"1\") == numberOfOneInExpression:\n",
    "                    sortListExpressionBinary.append(expression)\n",
    "            numberOfOneInExpression += 1\n",
    "\n",
    "        return sortListExpressionBinary\n",
    "    \n",
    "    def createTeasingPrime(self, listSortedBinarySOP):\n",
    "        primosImplicantes = {}\n",
    "        nextExpressions = 1\n",
    "        \n",
    "        for expression1 in listSortedBinarySOP:  \n",
    "            for expression2 in listSortedBinarySOP[nextExpressions:]:\n",
    "                expressionPrimoImplicante = \"\"\n",
    "                \n",
    "                numberOfBitsDifference = 0 \n",
    "                # Verify Differences Between two expression\n",
    "                for indexMinterm in range(0, 4):\n",
    "                    if expression1[indexMinterm] != expression2[indexMinterm]:\n",
    "                        numberOfBitsDifference += 1\n",
    "                        expressionPrimoImplicante += \"_\"\n",
    "                    else:\n",
    "                        expressionPrimoImplicante += expression1[indexMinterm]\n",
    "                \n",
    "                if numberOfBitsDifference == 1:\n",
    "                    key = str(int(expression1, 2)) + \"-\" + str(int(expression2, 2))\n",
    "                    primosImplicantes[key] = expressionPrimoImplicante\n",
    "                \n",
    "                \n",
    "            nextExpressions += 1\n",
    "        return primosImplicantes\n",
    "    \n",
    "    def updateTeasingPrime(self, dictPrimosImplicantes):\n",
    "        nextExpressions = 1\n",
    "        listOfExpressions = []\n",
    "        primosImplicantes = {}\n",
    "\n",
    "        while(primosImplicantes != dictPrimosImplicantes):\n",
    "            primosImplicantes = {}\n",
    "            for numbers1, minTerm1 in dictPrimosImplicantes.items():\n",
    "                hasChange = 0\n",
    "                for numbers2, minTerm2 in dictPrimosImplicantes.items():   \n",
    "\n",
    "                    expressionPrimoImplicante = \"\"\n",
    "                    numberOfBitsDifference = 0 \n",
    "\n",
    "                    # Verify Differences Between two expression\n",
    "                    for indexMinterm in range(0, 4):\n",
    "                        if minTerm1[indexMinterm] != minTerm2[indexMinterm] and (minTerm2[indexMinterm] != \"_\" or minTerm1[indexMinterm] != \"_\"):\n",
    "\n",
    "                            numberOfBitsDifference += 1\n",
    "                            expressionPrimoImplicante += \"_\"\n",
    "                        else:\n",
    "                            expressionPrimoImplicante += minTerm1[indexMinterm]\n",
    "\n",
    "                    if numberOfBitsDifference == 1:\n",
    "                        key = numbers1 + \"-\" + numbers2\n",
    "                        primosImplicantes[key] = expressionPrimoImplicante\n",
    "                        hasChange = 1\n",
    "\n",
    "                if hasChange == 0:\n",
    "                    key = numbers1\n",
    "                    primosImplicantes[key] = minTerm1\n",
    "\n",
    "            newPrimosImplicantes = []\n",
    "            dictPrimosImplicantes = {}\n",
    "            for number, minTerm in primosImplicantes.items():\n",
    "                if minTerm not in newPrimosImplicantes:\n",
    "                    newPrimosImplicantes.append(minTerm)\n",
    "                    dictPrimosImplicantes[number] = minTerm\n",
    "\n",
    "            #print(\"\\ndictPrimosImplicantes\", dictPrimosImplicantes)\n",
    "            #print(\"\\nprimosImplicantes\", primosImplicantes)\n",
    "        return dictPrimosImplicantes\n",
    "    \n",
    "    def createCoverTable(self, teasingPrimes):\n",
    "        tableCover = []\n",
    "        \n",
    "        for number, minterm in teasingPrimes.items():\n",
    "            listNumber = number.split(\"-\")\n",
    "            line = \"\"\n",
    "            for i in range(0, 16):\n",
    "                if str(i) in listNumber:\n",
    "                    line += \"X\"\n",
    "                else:\n",
    "                    line += \"_\"\n",
    "            tableCover.append(line)\n",
    "        return tableCover\n",
    "    \n",
    "    def findEssentialPrime(self, coverTable):\n",
    "        listEssentialPrime = []\n",
    "        \n",
    "        idLine = 0\n",
    "        for line in coverTable:\n",
    "            idColumn = 0\n",
    "            for column in line:\n",
    "                if column == \"X\":\n",
    "                    \n",
    "                    hasX = 0\n",
    "                    for vertical in range(0, len(coverTable)):\n",
    "                        if (coverTable[vertical][idColumn] == \"X\") and vertical != idLine:\n",
    "                            hasX = 1 \n",
    "                    if hasX == 0:\n",
    "                        if idLine not in listEssentialPrime:\n",
    "                            listEssentialPrime.append(idLine)\n",
    "                            \n",
    "                idColumn += 1\n",
    "            idLine += 1\n",
    "    \n",
    "        return listEssentialPrime\n",
    "    \n",
    "    def fillEssentialPrime(self, coverTable, listEssentialPrime):\n",
    "        for essentialPrime in listEssentialPrime:\n",
    "            indexColumn = 0\n",
    "            \n",
    "            for column in coverTable[essentialPrime]:\n",
    "                if column == \"X\":\n",
    "                    # Fill the Vertical\n",
    "                                        # Altura\n",
    "                    for vertical in range(0, len(coverTable)):\n",
    "                        #coverTable[vertical][indexColumn] = \"F\"\n",
    "                        newString = list(coverTable[vertical])\n",
    "                        newString[indexColumn] = \"F\"\n",
    "                        coverTable[vertical] = ''.join(newString)\n",
    "                indexColumn += 1\n",
    "            coverTable[essentialPrime] = \"FFFFFFFFFFFFFFFF\"\n",
    "        \n",
    "        return coverTable\n",
    "    \n",
    "    \n",
    "    #---------------------------------------------------------------------\n",
    "    def findNextLine(self, coverTable, allLines):\n",
    "        countFinal = -1\n",
    "        for line in range(0, len(coverTable)):\n",
    "            countLine = 0\n",
    "            if line not in allLines:\n",
    "                for column in range(0, 16):\n",
    "                    count = 0\n",
    "                    if coverTable[line][column] == \"X\":\n",
    "                        # Counting Vertical (inclusive)\n",
    "                        for vertical in range(0, len(coverTable)):\n",
    "                            if coverTable[vertical][column] == \"X\":\n",
    "                                count += 1\n",
    "                    countLine += count\n",
    "            \n",
    "            #print(\"Line: \", line, \"- countLine: \", countLine)\n",
    "            if countLine > countFinal:\n",
    "                countFinal = countLine\n",
    "                nextLine = line\n",
    "        return nextLine\n",
    "    \n",
    "    def isFilled(self, coverTable):\n",
    "        for line in range(0, len(coverTable)):\n",
    "            for column in range(0, 16):\n",
    "                if coverTable[line][column] == \"X\":\n",
    "                    return False\n",
    "        return True\n",
    "    \n",
    "    \n",
    "    # Not Work! -> Não dá o menor custo. (Escolhe os maiores com quantidade de X)\n",
    "    def fillTeasingPrime(self, coverTable, listEssentialPrime):\n",
    "        allLines = listEssentialPrime.copy()\n",
    "        while(not mcCluskey.isFilled(coverTable)):\n",
    "            nextLine = mcCluskey.findNextLine(coverTable,  allLines)\n",
    "            allLines.append(nextLine)\n",
    "            indexColumn = 0 \n",
    "            for column in coverTable[nextLine]:\n",
    "                if column == \"X\":\n",
    "                # Fill the Vertical\n",
    "                    for vertical in range(0, len(coverTable)):\n",
    "                        #coverTable[vertical][indexColumn] = \"F\"\n",
    "                        newString = list(coverTable[vertical])\n",
    "                        newString[indexColumn] = \"F\"\n",
    "                        coverTable[vertical] = ''.join(newString)\n",
    "                indexColumn += 1\n",
    "            coverTable[nextLine] = \"FFFFFFFFFFFFFFFF\"\n",
    "        return coverTable, allLines\n",
    "    \n",
    "    # Work! -> Força bruta, porém da o menor custo.\n",
    "    def fillTeasingPrimeAlternative(self, coverTable, listEssentialPrime, teasingPrime):\n",
    "        linesNotEssentialPrime = []\n",
    "        for lineNumber in range(0, len(coverTable)):\n",
    "            if lineNumber not in listEssentialPrime:\n",
    "                linesNotEssentialPrime.append(lineNumber)\n",
    "\n",
    "        #Transform Integer Lines to string word\n",
    "        string = str(linesNotEssentialPrime).strip('[]').replace(\", \",\"\")\n",
    "\n",
    "        # Calculate Arranjo\n",
    "        listArranjo = [''.join(anagrama) for anagrama in itertools.permutations(string)]\n",
    "\n",
    "        lowestCost = 9999\n",
    "        lowestLines = []\n",
    "        lowestCoverTable = []\n",
    "        lowestMinterm = \"\"\n",
    "\n",
    "        for possibility in listArranjo:\n",
    "            #print(\"Possibility:\", possibility)\n",
    "            listLines = list(possibility)\n",
    "\n",
    "            # Copy of Essential Primes\n",
    "            copyAllLines = listEssentialPrime.copy()\n",
    "            #print(\"copyAllLines:\", copyAllLines)\n",
    "            copyCoverTable = coverTable.copy()\n",
    "            #print(\"copyCoverTable:\", copyCoverTable)\n",
    "            \n",
    "            # Calculate coverTable of one possibility\n",
    "            for line in listLines:\n",
    "                \n",
    "                if self.isFilled(copyCoverTable) == True:\n",
    "                    break\n",
    "                else:\n",
    "                    #print(\"\\t Line:\", line)\n",
    "                    copyAllLines.append(int(line))\n",
    "                    indexColumn = 0 \n",
    "                    line = int(line)\n",
    "                    for column in copyCoverTable[line]:\n",
    "                        if column == \"X\":\n",
    "                            # Fill the Vertical\n",
    "                            for vertical in range(0, len(copyCoverTable)):\n",
    "                                #coverTable[vertical][indexColumn] = \"F\"\n",
    "                                newString = list(copyCoverTable[vertical])\n",
    "                                newString[indexColumn] = \"F\"\n",
    "                                copyCoverTable[vertical] = ''.join(newString)\n",
    "                        indexColumn += 1\n",
    "                    copyCoverTable[line] = \"FFFFFFFFFFFFFFFF\"\n",
    "\n",
    "            \n",
    "            \n",
    "            # Generate minterm of this CoverTable and Lines\n",
    "            stringMinterm = self.changeToMinterms(copyAllLines, teasingPrime)\n",
    "            #print(\"stringMinterm:\", stringMinterm)\n",
    "            \n",
    "            # Calculate your cost\n",
    "            costMinterm = self.calculateCost(stringMinterm)\n",
    "            #print(\"costMinterm:\", costMinterm)\n",
    "            \n",
    "            # Check if lowest\n",
    "            if costMinterm < lowestCost:\n",
    "                lowestCost = costMinterm\n",
    "                lowestLines = copyAllLines.copy()\n",
    "                lowestCoverTable = copyCoverTable.copy()\n",
    "                lowestMinterm = stringMinterm\n",
    "\n",
    "        \n",
    "        print(\"Lowest Cost:\" , lowestCost)\n",
    "        print(\"Lowest Minterm:\", lowestMinterm)\n",
    "        #print(\"Lowest CoverTable:\", lowestCoverTable)\n",
    "        print(\"Lowest Lines:\", lowestLines)\n",
    "        \n",
    "        \n",
    "        return lowestCost, lowestCoverTable, lowestLines, lowestMinterm\n",
    "    \n",
    "    def changeToMinterms(self, allLines, teasingPrime):\n",
    "        stringAll = \"\"\n",
    "        last = 0\n",
    "        for linePrime in allLines:\n",
    "    \n",
    "            idTest = 0\n",
    "            for numbersMinterm, binaryMinterm in teasingPrime.items():\n",
    "                if int(linePrime) == idTest:\n",
    "                    string = \"\"\n",
    "                    count = 0\n",
    "                    \n",
    "                    \n",
    "                    for c in binaryMinterm:\n",
    "                        if c == \"1\" and count == 0:\n",
    "                            string += \"A\"\n",
    "                        if c == \"0\" and count == 0:\n",
    "                            string += \"!A\"   \n",
    "                            \n",
    "                        if c == \"1\" and count == 1:\n",
    "                            string += \"B\"\n",
    "                        if c == \"0\" and count == 1:\n",
    "                            string += \"!B\"\n",
    "                            \n",
    "                        if c == \"1\" and count == 2:\n",
    "                            string += \"C\"\n",
    "                        if c == \"0\" and count == 2:\n",
    "                            string += \"!C\"\n",
    "                        \n",
    "                        if c == \"1\" and count == 3:\n",
    "                            string += \"D\"\n",
    "                        if c == \"0\" and count == 3:\n",
    "                            string += \"!D\"\n",
    "                        \n",
    "                        if not(c == \"_\"):\n",
    "                            string += \"*\"\n",
    "                        count += 1\n",
    "                        \n",
    "                idTest += 1\n",
    "            last += 1\n",
    "            \n",
    "            if string[-1] == \"*\":\n",
    "                    string = string[:-1]\n",
    "                    \n",
    "            if not(last == len(allLines)):\n",
    "                stringAll += string + \" + \"\n",
    "            else:\n",
    "                stringAll += string\n",
    "        return stringAll\n",
    "    \n",
    "    def calculateCost(self, minterms):\n",
    "        listProducts = minterms.split(\"+\")\n",
    "        costProducts = 0\n",
    "        for products in listProducts:\n",
    "            products = products.replace(\"!\", \"\")\n",
    "            costProducts += len(products.split(\"*\"))\n",
    "            #print(products, len(products.split(\"*\")))\n",
    "\n",
    "\n",
    "        costAll = costProducts + len(listProducts)\n",
    "        return costAll\n"
   ]
  },
  {
   "cell_type": "code",
   "execution_count": 3,
   "metadata": {},
   "outputs": [
    {
     "data": {
      "text/plain": [
       "<__main__.QuineMcCluskey at 0x7fb60100d748>"
      ]
     },
     "execution_count": 3,
     "metadata": {},
     "output_type": "execute_result"
    }
   ],
   "source": [
    "mcCluskey = QuineMcCluskey(SOP)\n",
    "mcCluskey"
   ]
  },
  {
   "cell_type": "code",
   "execution_count": 4,
   "metadata": {},
   "outputs": [
    {
     "name": "stdout",
     "output_type": "stream",
     "text": [
      "McCluskey SOP: !A*!B*C*!D + !A*B*!C*!D + !A*B*C*!D + A*!B*!C*!D + A*!B*!C*D + A*!B*C*!D + A*B*!C*!D + A*B*!C*D + A*B*C*D\n"
     ]
    }
   ],
   "source": [
    "SOP = mcCluskey.SOP\n",
    "print(\"McCluskey SOP:\", SOP)"
   ]
  },
  {
   "cell_type": "code",
   "execution_count": 5,
   "metadata": {},
   "outputs": [
    {
     "name": "stdout",
     "output_type": "stream",
     "text": [
      "McCluskey SOP Binary: ['0010', '0100', '0110', '1000', '1001', '1010', '1100', '1101', '1111']\n"
     ]
    }
   ],
   "source": [
    "listBinarySOP = mcCluskey.getBinaryOfSOP()\n",
    "print(\"McCluskey SOP Binary:\", listBinarySOP)"
   ]
  },
  {
   "cell_type": "code",
   "execution_count": 6,
   "metadata": {},
   "outputs": [
    {
     "name": "stdout",
     "output_type": "stream",
     "text": [
      "McCluskey SOP Binary Sorted:  ['0010', '0100', '1000', '0110', '1001', '1010', '1100', '1101', '1111']\n"
     ]
    }
   ],
   "source": [
    "listSortedBinarySOP = mcCluskey.sortByNumbersOne(listBinarySOP)\n",
    "print(\"McCluskey SOP Binary Sorted: \", listSortedBinarySOP)"
   ]
  },
  {
   "cell_type": "code",
   "execution_count": 7,
   "metadata": {},
   "outputs": [
    {
     "name": "stdout",
     "output_type": "stream",
     "text": [
      "McCluskey Primeiros Primos Implicantes: \n"
     ]
    },
    {
     "data": {
      "text/plain": [
       "{'2-6': '0_10',\n",
       " '2-10': '_010',\n",
       " '4-6': '01_0',\n",
       " '4-12': '_100',\n",
       " '8-9': '100_',\n",
       " '8-10': '10_0',\n",
       " '8-12': '1_00',\n",
       " '9-13': '1_01',\n",
       " '12-13': '110_',\n",
       " '13-15': '11_1'}"
      ]
     },
     "execution_count": 7,
     "metadata": {},
     "output_type": "execute_result"
    }
   ],
   "source": [
    "print(\"McCluskey Primeiros Primos Implicantes: \")\n",
    "teasingPrime = mcCluskey.createTeasingPrime(listSortedBinarySOP)\n",
    "teasingPrime"
   ]
  },
  {
   "cell_type": "code",
   "execution_count": 8,
   "metadata": {},
   "outputs": [
    {
     "name": "stdout",
     "output_type": "stream",
     "text": [
      "McCluskey Primeiros Primos Implicantes Atualizados:\n"
     ]
    },
    {
     "data": {
      "text/plain": [
       "{'2-6': '0_10',\n",
       " '2-10': '_010',\n",
       " '4-6': '01_0',\n",
       " '4-12': '_100',\n",
       " '8-9-12-13': '1_0_',\n",
       " '8-10': '10_0',\n",
       " '13-15': '11_1'}"
      ]
     },
     "execution_count": 8,
     "metadata": {},
     "output_type": "execute_result"
    }
   ],
   "source": [
    "print(\"McCluskey Primeiros Primos Implicantes Atualizados:\")\n",
    "teasingPrime = mcCluskey.updateTeasingPrime(teasingPrime)\n",
    "teasingPrime"
   ]
  },
  {
   "cell_type": "code",
   "execution_count": 9,
   "metadata": {},
   "outputs": [
    {
     "name": "stdout",
     "output_type": "stream",
     "text": [
      "McCluskey Cover Table: \n"
     ]
    },
    {
     "data": {
      "text/plain": [
       "['__X___X_________',\n",
       " '__X_______X_____',\n",
       " '____X_X_________',\n",
       " '____X_______X___',\n",
       " '________XX__XX__',\n",
       " '________X_X_____',\n",
       " '_____________X_X']"
      ]
     },
     "execution_count": 9,
     "metadata": {},
     "output_type": "execute_result"
    }
   ],
   "source": [
    "print(\"McCluskey Cover Table: \")\n",
    "coverTable = mcCluskey.createCoverTable(teasingPrime)\n",
    "coverTable"
   ]
  },
  {
   "cell_type": "code",
   "execution_count": 10,
   "metadata": {},
   "outputs": [
    {
     "name": "stdout",
     "output_type": "stream",
     "text": [
      "McCluskey Essential Primes [4, 6]\n"
     ]
    }
   ],
   "source": [
    "listEssentialPrime = mcCluskey.findEssentialPrime(coverTable)\n",
    "print(\"McCluskey Essential Primes\", listEssentialPrime)\n"
   ]
  },
  {
   "cell_type": "code",
   "execution_count": 11,
   "metadata": {},
   "outputs": [
    {
     "data": {
      "text/plain": [
       "['__X___X_FF__FF_F',\n",
       " '__X_____FFX_FF_F',\n",
       " '____X_X_FF__FF_F',\n",
       " '____X___FF__FF_F',\n",
       " 'FFFFFFFFFFFFFFFF',\n",
       " '________FFX_FF_F',\n",
       " 'FFFFFFFFFFFFFFFF']"
      ]
     },
     "execution_count": 11,
     "metadata": {},
     "output_type": "execute_result"
    }
   ],
   "source": [
    "mcCluskey.fillEssentialPrime(coverTable, listEssentialPrime)"
   ]
  },
  {
   "cell_type": "code",
   "execution_count": 12,
   "metadata": {},
   "outputs": [
    {
     "name": "stdout",
     "output_type": "stream",
     "text": [
      "Lowest Cost: 15\n",
      "Lowest Minterm: A*!C + A*B*D + !B*C*!D + !A*B*!D\n",
      "Lowest Lines: [4, 6, 1, 2]\n"
     ]
    }
   ],
   "source": [
    "mcCluskey.fillTeasingPrimeAlternative(coverTable, listEssentialPrime, teasingPrime)\n",
    "pass"
   ]
  },
  {
   "cell_type": "code",
   "execution_count": null,
   "metadata": {},
   "outputs": [],
   "source": []
  },
  {
   "cell_type": "code",
   "execution_count": 13,
   "metadata": {},
   "outputs": [],
   "source": [
    "# ------------ Test's -------------------------\n",
    "#mcCluskey.findNextLine(coverTable, listEssentialPrime)\n",
    "#mcCluskey.isFilled(coverTable)\n",
    "#coverTable, allLines = mcCluskey.fillTeasingPrime(coverTable, listEssentialPrime)\n",
    "#minterms = mcCluskey.changeToMinterms(allLines, teasingPrime)\n",
    "#costTotal = mcCluskey.calculateCost(minterms)"
   ]
  },
  {
   "cell_type": "code",
   "execution_count": null,
   "metadata": {},
   "outputs": [],
   "source": []
  }
 ],
 "metadata": {
  "kernelspec": {
   "display_name": "Python 3",
   "language": "python",
   "name": "python3"
  },
  "language_info": {
   "codemirror_mode": {
    "name": "ipython",
    "version": 3
   },
   "file_extension": ".py",
   "mimetype": "text/x-python",
   "name": "python",
   "nbconvert_exporter": "python",
   "pygments_lexer": "ipython3",
   "version": "3.7.1"
  }
 },
 "nbformat": 4,
 "nbformat_minor": 2
}
